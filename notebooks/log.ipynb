{
 "cells": [
  {
   "cell_type": "markdown",
   "id": "cb442c21",
   "metadata": {},
   "source": [
    "# Работа с данными"
   ]
  },
  {
   "cell_type": "markdown",
   "id": "b574bed4",
   "metadata": {},
   "source": [
    "## Синтез данных"
   ]
  },
  {
   "cell_type": "markdown",
   "id": "d110d84a",
   "metadata": {},
   "source": [
    "Исследуемые величины: напряжение в качестве целевого параметра, температура, влажность, вибрации и характеристика материала"
   ]
  },
  {
   "cell_type": "markdown",
   "id": "2a612c69",
   "metadata": {},
   "source": [
    "## Создание датасета"
   ]
  },
  {
   "cell_type": "markdown",
   "id": "8957d5d5",
   "metadata": {},
   "source": [
    "# Разработка модели"
   ]
  }
 ],
 "metadata": {
  "language_info": {
   "name": "python"
  }
 },
 "nbformat": 4,
 "nbformat_minor": 5
}
